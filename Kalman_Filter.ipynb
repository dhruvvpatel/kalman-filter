{
 "cells": [
  {
   "cell_type": "markdown",
   "metadata": {},
   "source": [
    "## Importing Necessary Modules"
   ]
  },
  {
   "cell_type": "code",
   "execution_count": 1,
   "metadata": {},
   "outputs": [],
   "source": [
    "import numpy as np\n",
    "from numpy import genfromtxt\n",
    "import matplotlib.pyplot as plt"
   ]
  },
  {
   "cell_type": "code",
   "execution_count": 2,
   "metadata": {},
   "outputs": [],
   "source": [
    "%matplotlib inline  "
   ]
  },
  {
   "cell_type": "markdown",
   "metadata": {},
   "source": [
    "## Importing csv files"
   ]
  },
  {
   "cell_type": "code",
   "execution_count": 3,
   "metadata": {},
   "outputs": [],
   "source": [
    "true_data = genfromtxt('true_data.csv', delimiter=',')\n",
    "sen_pos_data = genfromtxt('sen_pos_data.csv', delimiter=',')\n",
    "sen_acc_data = genfromtxt('sen_acc_data.csv', delimiter=',')"
   ]
  },
  {
   "cell_type": "code",
   "execution_count": 4,
   "metadata": {
    "scrolled": true
   },
   "outputs": [],
   "source": [
    "true_vel = []\n",
    "for i in range(199):\n",
    "    v = (true_data[i+1] - true_data[i]) / 0.1\n",
    "    true_vel.append(v)\n",
    "\n",
    "true_acc = []\n",
    "for i in range(198):\n",
    "    a = (true_vel[i+1] - true_vel[i]) / 0.1\n",
    "    true_acc.append(a)\n",
    "    "
   ]
  },
  {
   "cell_type": "markdown",
   "metadata": {},
   "source": [
    "## Observation that we are making - position "
   ]
  },
  {
   "cell_type": "code",
   "execution_count": 5,
   "metadata": {},
   "outputs": [],
   "source": [
    "z = np.c_[sen_acc_data]"
   ]
  },
  {
   "cell_type": "markdown",
   "metadata": {},
   "source": [
    "## Defining Prediction Function"
   ]
  },
  {
   "cell_type": "code",
   "execution_count": 6,
   "metadata": {},
   "outputs": [],
   "source": [
    "def Prediction(x_t_1, P_t_1, F_t, Q_t):\n",
    "    x_t = F_t.dot(x_t_1)\n",
    "    P_t = np.diag(np.diag(F_t.dot(P_t_1).dot(F_t.T))) + Q_t\n",
    "    return x_t, P_t\n"
   ]
  },
  {
   "cell_type": "markdown",
   "metadata": {},
   "source": [
    "## Defining Update Function"
   ]
  },
  {
   "cell_type": "code",
   "execution_count": 7,
   "metadata": {},
   "outputs": [],
   "source": [
    "def Update(x_t, P_t, Z_t, R_t, H_t):\n",
    "    S = np.linalg.inv( H_t.dot(P_t).dot(H_t.T) + R_t )\n",
    "    K = P_t.dot(H_t.T).dot(S)\n",
    "\n",
    "    x_t = x_t + K.dot(Z_t - H_t.dot(x_t))\n",
    "    P_t = P_t - K.dot(H_t).dot(P_t)\n",
    "\n",
    "    return x_t, P_t\n"
   ]
  },
  {
   "cell_type": "code",
   "execution_count": 8,
   "metadata": {},
   "outputs": [],
   "source": [
    "dt = 0.1"
   ]
  },
  {
   "cell_type": "markdown",
   "metadata": {},
   "source": [
    "# Defining the Variables and Matrices"
   ]
  },
  {
   "cell_type": "code",
   "execution_count": 9,
   "metadata": {},
   "outputs": [],
   "source": [
    "# Transition Matrix\n",
    "F_t = np.array([    [1, dt, (1/2)*(dt**2)],\n",
    "                    [0, 1, dt],\n",
    "                    [0, 0, 1]      ])\n",
    "\n",
    "\n",
    "# Process Covariance\n",
    "process_var = 0.44\n",
    "Q_t = process_var * np.array([   [(dt**4)/4, (dt**3)/2, (dt**2)/2],\n",
    "                                 [(dt**3)/2, 2*(dt**3), (dt**2)],\n",
    "                                 [(dt**2)/2, (dt**2), (dt**2)]      ])\n",
    "\n",
    "# Measurement Covariance\n",
    "R_t = 0.77\n",
    "\n",
    "# Measurement Matrix\n",
    "H_t = np.array([ [0, 0, 1] ])\n",
    "\n"
   ]
  },
  {
   "cell_type": "markdown",
   "metadata": {},
   "source": [
    "### Initial State & Covariance "
   ]
  },
  {
   "cell_type": "code",
   "execution_count": 10,
   "metadata": {},
   "outputs": [],
   "source": [
    "# Initial State\n",
    "x_t = np.array([ [0], [0], [0] ])\n",
    "\n",
    "# Initial Covariance State \n",
    "P_t = 1 * np.identity(3)"
   ]
  },
  {
   "cell_type": "code",
   "execution_count": 11,
   "metadata": {},
   "outputs": [],
   "source": [
    "# Empty Lists to save the estimated states\n",
    "kalman_pos =[]\n",
    "kalman_vel = []\n",
    "kalman_acc = []"
   ]
  },
  {
   "cell_type": "markdown",
   "metadata": {},
   "source": [
    "## Main Kalman Loop"
   ]
  },
  {
   "cell_type": "code",
   "execution_count": 12,
   "metadata": {},
   "outputs": [],
   "source": [
    "for i in range(z.shape[0]):\n",
    "    \n",
    "    # Prediction Step\n",
    "    x_t, P_t = Prediction(x_t,P_t,F_t,Q_t)\n",
    "\n",
    "    # Reshaping the measurement data\n",
    "    Z_t = z[i].transpose()\n",
    "    Z_t = Z_t.reshape(Z_t.shape[0], -1)\n",
    "\n",
    "    # Update Step\n",
    "    x_t, P_t = Update(x_t,P_t,Z_t,R_t,H_t)\n",
    "\n",
    "    kalman_pos.append(x_t[0])\n",
    "    kalman_vel.append(x_t[1])\n",
    "    kalman_acc.append(x_t[2])"
   ]
  },
  {
   "cell_type": "code",
   "execution_count": 13,
   "metadata": {},
   "outputs": [
    {
     "name": "stdout",
     "output_type": "stream",
     "text": [
      " Final Filter State Matrix : \n",
      "\n",
      " [[194.87784268]\n",
      " [ 19.68189823]\n",
      " [  0.98586234]]\n"
     ]
    }
   ],
   "source": [
    "print(\" Final Filter State Matrix : \\n\\n\", x_t)"
   ]
  },
  {
   "cell_type": "code",
   "execution_count": 14,
   "metadata": {},
   "outputs": [],
   "source": [
    "# Plotting\n",
    "\n",
    "kalman_pos = np.concatenate(kalman_pos).ravel()\n",
    "kalman_vel = np.concatenate(kalman_vel).ravel()\n",
    "kalman_acc = np.concatenate(kalman_acc).ravel()\n",
    "\n",
    "x = np.linspace(0, 20, 200)"
   ]
  },
  {
   "cell_type": "code",
   "execution_count": 15,
   "metadata": {},
   "outputs": [
    {
     "data": {
      "text/plain": [
       "[<matplotlib.lines.Line2D at 0x1160e1c90>]"
      ]
     },
     "execution_count": 15,
     "metadata": {},
     "output_type": "execute_result"
    },
    {
     "data": {
      "image/png": "[encoded data removed]",
      "text/plain": [
       "<Figure size 432x288 with 1 Axes>"
      ]
     },
     "metadata": {
      "needs_background": "light"
     },
     "output_type": "display_data"
    }
   ],
   "source": [
    "plt.title('Estimated (Kalman) Position vs True Position', fontweight='bold') \n",
    "plt.plot(x,kalman_pos)\n",
    "plt.plot(x,true_data)"
   ]
  },
  {
   "cell_type": "code",
   "execution_count": 16,
   "metadata": {},
   "outputs": [
    {
     "data": {
      "text/plain": [
       "[<matplotlib.lines.Line2D at 0x1161daed0>]"
      ]
     },
     "execution_count": 16,
     "metadata": {},
     "output_type": "execute_result"
    },
    {
     "data": {
      "image/png": "[encoded data removed]",
      "text/plain": [
       "<Figure size 432x288 with 1 Axes>"
      ]
     },
     "metadata": {
      "needs_background": "light"
     },
     "output_type": "display_data"
    }
   ],
   "source": [
    "plt.title('Estimated (Kalman) Velocity', fontweight='bold') \n",
    "plt.plot(x,kalman_vel)\n",
    "plt.plot(x[1:200],true_vel)"
   ]
  },
  {
   "cell_type": "code",
   "execution_count": 17,
   "metadata": {},
   "outputs": [
    {
     "data": {
      "text/plain": [
       "[<matplotlib.lines.Line2D at 0x116381f90>]"
      ]
     },
     "execution_count": 17,
     "metadata": {},
     "output_type": "execute_result"
    },
    {
     "data": {
      "image/png": "[encoded data removed]",
      "text/plain": [
       "<Figure size 432x288 with 1 Axes>"
      ]
     },
     "metadata": {
      "needs_background": "light"
     },
     "output_type": "display_data"
    }
   ],
   "source": [
    "plt.title('Estimated (Kalman) Acceleration', fontweight='bold') \n",
    "plt.plot(x,kalman_acc)\n",
    "plt.plot(x[2:200],true_acc)"
   ]
  }
 ],
 "metadata": {
  "kernelspec": {
   "display_name": "Python 3.7.6 64-bit",
   "language": "python",
   "name": "python37664bita9191fbd638c401c8851d16f8fd401f3"
  },
  "language_info": {
   "codemirror_mode": {
    "name": "ipython",
    "version": 3
   },
   "file_extension": ".py",
   "mimetype": "text/x-python",
   "name": "python",
   "nbconvert_exporter": "python",
   "pygments_lexer": "ipython3",
   "version": "3.7.7"
  }
 },
 "nbformat": 4,
 "nbformat_minor": 4
}
